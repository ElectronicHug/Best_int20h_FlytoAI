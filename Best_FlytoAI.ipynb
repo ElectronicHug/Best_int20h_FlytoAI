{
 "cells": [
  {
   "cell_type": "code",
   "execution_count": 1,
   "metadata": {},
   "outputs": [],
   "source": [
    "import pandas as pd\n",
    "import numpy as np"
   ]
  },
  {
   "cell_type": "code",
   "execution_count": 2,
   "metadata": {},
   "outputs": [],
   "source": [
    "data = pd.read_csv('data_analytics.csv')"
   ]
  },
  {
   "cell_type": "code",
   "execution_count": 3,
   "metadata": {},
   "outputs": [
    {
     "name": "stdout",
     "output_type": "stream",
     "text": [
      "Event Date\n",
      "['2019-07-15' '2019-07-16' '2019-07-17' '2019-07-18' '2019-07-19'\n",
      " '2019-07-20' '2019-07-22' '2019-07-23' '2019-07-24' '2019-07-25'\n",
      " '2019-07-26' '2019-07-27' '2019-07-29' '2019-07-30' '2019-07-31'\n",
      " '2019-08-01' '2019-08-02' '2019-08-03' '2019-08-05' '2019-08-07'\n",
      " '2019-08-08' '2019-08-09' '2019-08-10' '2019-08-12' '2019-08-14'\n",
      " '2019-08-15' '2019-08-16' '2019-08-17' '2019-08-19' '2019-08-21'\n",
      " '2019-08-22' '2019-08-24']\n",
      "App Apple ID\n",
      "[1]\n",
      "Subscription Name\n",
      "['weekly 9.99 + 7D trial']\n",
      "Standard Subscription Duration\n",
      "['7 Days']\n",
      "Promotional Offer Name\n",
      "[nan]\n",
      "Promotional Offer ID\n",
      "[nan]\n",
      "Subscription Offer Type\n",
      "['Free Trial' nan]\n",
      "Subscription Offer Duration\n",
      "['7 Days' nan]\n",
      "Marketing Opt-In Duration\n",
      "[nan]\n",
      "Customer Currency\n",
      "['IDR' 'USD' 'INR' 'GBP' 'THB' 'TRY' 'TZS' 'QAR' 'AED' 'SAR' 'EUR' 'CHF'\n",
      " 'HKD' 'PKR' 'VND' 'CAD' 'AUD' 'MYR' 'RUB' 'BRL' 'JPY' 'NGN' 'SEK' 'MXN'\n",
      " 'PLN' 'COP' 'EGP' 'SGD' 'CLP' 'HUF' 'ILS' 'DKK' 'PHP' 'NOK']\n",
      "Proceeds Currency\n",
      "['IDR' 'USD' 'INR' 'GBP' 'THB' 'TRY' 'TZS' 'QAR' 'AED' 'SAR' 'EUR' 'CHF'\n",
      " 'HKD' 'PKR' 'VND' 'CAD' 'AUD' 'MYR' 'RUB' 'BRL' 'JPY' 'NGN' 'SEK' 'MXN'\n",
      " 'PLN' 'COP' 'EGP' 'SGD' 'CLP' 'HUF' 'ILS' 'DKK' 'PHP' 'NOK']\n",
      "Device\n",
      "['iPhone' 'iPad']\n",
      "Country\n",
      "['ID' 'US' 'IN' 'GB' 'CR' 'TH' 'TR' 'TZ' 'QA' 'AE' 'SA' 'IT' 'MN' 'CH'\n",
      " 'HK' 'PK' 'VN' 'CA' 'AU' 'MT' 'KW' 'DE' 'MY' 'RU' 'JO' 'BR' 'JP' 'NG'\n",
      " 'SE' 'UG' 'MX' 'BE' 'KH' 'ES' 'BW' 'IE' 'AR' 'PT' 'PL' 'NL' 'CO' 'FR'\n",
      " 'AZ' 'EG' 'SG' 'CL' 'HU' 'GH' 'LU' 'IL' 'UA' nan 'BH' 'TT' 'KE' 'LK' 'MZ'\n",
      " 'LV' 'PY' 'DK' 'PH' 'GR' 'AT' 'LB' 'NO' 'FI']\n",
      "Subscriber ID\n",
      "[223411322456765433 223411322456765434 223411322456765435 ...\n",
      " 223411322456766802 223411322456766805 223411322456766808]\n",
      "Subscriber ID Reset\n",
      "[nan 'Yes']\n",
      "Refund\n",
      "[nan]\n",
      "Purchase Date\n",
      "[nan]\n",
      "Units\n",
      "[1]\n"
     ]
    }
   ],
   "source": [
    "for i in data:\n",
    "    print(i)\n",
    "    print(data[i].unique())"
   ]
  },
  {
   "cell_type": "code",
   "execution_count": 4,
   "metadata": {},
   "outputs": [
    {
     "data": {
      "text/plain": [
       "Index(['Event Date', 'App Apple ID', 'Subscription Name',\n",
       "       'Standard Subscription Duration', 'Promotional Offer Name',\n",
       "       'Promotional Offer ID', 'Subscription Offer Type',\n",
       "       'Subscription Offer Duration', 'Marketing Opt-In Duration',\n",
       "       'Customer Currency', 'Proceeds Currency', 'Device', 'Country',\n",
       "       'Subscriber ID', 'Subscriber ID Reset', 'Refund', 'Purchase Date',\n",
       "       'Units'],\n",
       "      dtype='object')"
      ]
     },
     "execution_count": 4,
     "metadata": {},
     "output_type": "execute_result"
    }
   ],
   "source": [
    "data.columns"
   ]
  },
  {
   "cell_type": "code",
   "execution_count": 5,
   "metadata": {},
   "outputs": [
    {
     "data": {
      "text/plain": [
       "Event Date                          [2380, 32, 0]\n",
       "App Apple ID                         [2380, 1, 0]\n",
       "Subscription Name                    [2380, 1, 0]\n",
       "Standard Subscription Duration       [2380, 1, 0]\n",
       "Promotional Offer Name            [2380, 0, 2380]\n",
       "Promotional Offer ID              [2380, 0, 2380]\n",
       "Subscription Offer Type           [2380, 1, 1361]\n",
       "Subscription Offer Duration       [2380, 1, 1361]\n",
       "Marketing Opt-In Duration         [2380, 0, 2380]\n",
       "Customer Currency                   [2380, 34, 0]\n",
       "Proceeds Currency                   [2380, 34, 0]\n",
       "Device                               [2380, 2, 0]\n",
       "Country                             [2380, 65, 7]\n",
       "Subscriber ID                     [2380, 1019, 0]\n",
       "Subscriber ID Reset               [2380, 1, 2376]\n",
       "Refund                            [2380, 0, 2380]\n",
       "Purchase Date                     [2380, 0, 2380]\n",
       "Units                                [2380, 1, 0]\n",
       "dtype: object"
      ]
     },
     "execution_count": 5,
     "metadata": {},
     "output_type": "execute_result"
    }
   ],
   "source": [
    "data.apply(lambda x: [len(x),x.nunique(), x.isna().sum()])"
   ]
  },
  {
   "cell_type": "code",
   "execution_count": 6,
   "metadata": {},
   "outputs": [],
   "source": [
    "COL_DROP = ['App Apple ID', 'Subscription Name', 'Standard Subscription Duration', 'Promotional Offer Name',\n",
    "       'Promotional Offer ID','Marketing Opt-In Duration','Refund', 'Purchase Date','Units']"
   ]
  },
  {
   "cell_type": "code",
   "execution_count": 7,
   "metadata": {},
   "outputs": [],
   "source": [
    "data.drop(columns=COL_DROP, inplace=True)"
   ]
  },
  {
   "cell_type": "code",
   "execution_count": 8,
   "metadata": {},
   "outputs": [
    {
     "data": {
      "text/plain": [
       "Event Date                     [2380, [2019-07-15, 2019-07-16, 2019-07-17, 20...\n",
       "Subscription Offer Type                          [2380, [Free Trial, nan], 1361]\n",
       "Subscription Offer Duration                          [2380, [7 Days, nan], 1361]\n",
       "Customer Currency              [2380, [IDR, USD, INR, GBP, THB, TRY, TZS, QAR...\n",
       "Proceeds Currency              [2380, [IDR, USD, INR, GBP, THB, TRY, TZS, QAR...\n",
       "Device                                                 [2380, [iPhone, iPad], 0]\n",
       "Country                        [2380, [ID, US, IN, GB, CR, TH, TR, TZ, QA, AE...\n",
       "Subscriber ID                  [2380, [223411322456765433, 223411322456765434...\n",
       "Subscriber ID Reset                                     [2380, [nan, Yes], 2376]\n",
       "dtype: object"
      ]
     },
     "execution_count": 8,
     "metadata": {},
     "output_type": "execute_result"
    }
   ],
   "source": [
    "data.apply(lambda x: [len(x),x.unique(), x.isna().sum()])"
   ]
  },
  {
   "cell_type": "code",
   "execution_count": 9,
   "metadata": {},
   "outputs": [
    {
     "data": {
      "text/plain": [
       "0"
      ]
     },
     "execution_count": 9,
     "metadata": {},
     "output_type": "execute_result"
    }
   ],
   "source": [
    "(data['Subscription Offer Type'].isna() != data['Subscription Offer Duration'].isna()).sum()"
   ]
  },
  {
   "cell_type": "code",
   "execution_count": 10,
   "metadata": {},
   "outputs": [],
   "source": [
    "data.drop(columns=['Subscription Offer Duration'], inplace=True)"
   ]
  },
  {
   "cell_type": "code",
   "execution_count": 11,
   "metadata": {},
   "outputs": [
    {
     "data": {
      "text/html": [
       "<div>\n",
       "<style scoped>\n",
       "    .dataframe tbody tr th:only-of-type {\n",
       "        vertical-align: middle;\n",
       "    }\n",
       "\n",
       "    .dataframe tbody tr th {\n",
       "        vertical-align: top;\n",
       "    }\n",
       "\n",
       "    .dataframe thead th {\n",
       "        text-align: right;\n",
       "    }\n",
       "</style>\n",
       "<table border=\"1\" class=\"dataframe\">\n",
       "  <thead>\n",
       "    <tr style=\"text-align: right;\">\n",
       "      <th></th>\n",
       "      <th>Event Date</th>\n",
       "      <th>Subscription Offer Type</th>\n",
       "      <th>Customer Currency</th>\n",
       "      <th>Proceeds Currency</th>\n",
       "      <th>Device</th>\n",
       "      <th>Country</th>\n",
       "      <th>Subscriber ID</th>\n",
       "      <th>Subscriber ID Reset</th>\n",
       "    </tr>\n",
       "  </thead>\n",
       "  <tbody>\n",
       "    <tr>\n",
       "      <th>0</th>\n",
       "      <td>2019-07-15</td>\n",
       "      <td>Free Trial</td>\n",
       "      <td>IDR</td>\n",
       "      <td>IDR</td>\n",
       "      <td>iPhone</td>\n",
       "      <td>ID</td>\n",
       "      <td>223411322456765433</td>\n",
       "      <td>NaN</td>\n",
       "    </tr>\n",
       "    <tr>\n",
       "      <th>1</th>\n",
       "      <td>2019-07-15</td>\n",
       "      <td>Free Trial</td>\n",
       "      <td>USD</td>\n",
       "      <td>USD</td>\n",
       "      <td>iPhone</td>\n",
       "      <td>US</td>\n",
       "      <td>223411322456765434</td>\n",
       "      <td>NaN</td>\n",
       "    </tr>\n",
       "    <tr>\n",
       "      <th>2</th>\n",
       "      <td>2019-07-15</td>\n",
       "      <td>Free Trial</td>\n",
       "      <td>INR</td>\n",
       "      <td>INR</td>\n",
       "      <td>iPhone</td>\n",
       "      <td>IN</td>\n",
       "      <td>223411322456765435</td>\n",
       "      <td>NaN</td>\n",
       "    </tr>\n",
       "    <tr>\n",
       "      <th>3</th>\n",
       "      <td>2019-07-15</td>\n",
       "      <td>Free Trial</td>\n",
       "      <td>GBP</td>\n",
       "      <td>GBP</td>\n",
       "      <td>iPhone</td>\n",
       "      <td>GB</td>\n",
       "      <td>223411322456765437</td>\n",
       "      <td>NaN</td>\n",
       "    </tr>\n",
       "    <tr>\n",
       "      <th>4</th>\n",
       "      <td>2019-07-15</td>\n",
       "      <td>Free Trial</td>\n",
       "      <td>INR</td>\n",
       "      <td>INR</td>\n",
       "      <td>iPhone</td>\n",
       "      <td>IN</td>\n",
       "      <td>223411322456765438</td>\n",
       "      <td>NaN</td>\n",
       "    </tr>\n",
       "  </tbody>\n",
       "</table>\n",
       "</div>"
      ],
      "text/plain": [
       "   Event Date Subscription Offer Type Customer Currency Proceeds Currency  \\\n",
       "0  2019-07-15              Free Trial               IDR               IDR   \n",
       "1  2019-07-15              Free Trial               USD               USD   \n",
       "2  2019-07-15              Free Trial               INR               INR   \n",
       "3  2019-07-15              Free Trial               GBP               GBP   \n",
       "4  2019-07-15              Free Trial               INR               INR   \n",
       "\n",
       "   Device Country       Subscriber ID Subscriber ID Reset  \n",
       "0  iPhone      ID  223411322456765433                 NaN  \n",
       "1  iPhone      US  223411322456765434                 NaN  \n",
       "2  iPhone      IN  223411322456765435                 NaN  \n",
       "3  iPhone      GB  223411322456765437                 NaN  \n",
       "4  iPhone      IN  223411322456765438                 NaN  "
      ]
     },
     "execution_count": 11,
     "metadata": {},
     "output_type": "execute_result"
    }
   ],
   "source": [
    "data.head()"
   ]
  },
  {
   "cell_type": "code",
   "execution_count": 12,
   "metadata": {},
   "outputs": [
    {
     "data": {
      "text/plain": [
       "0"
      ]
     },
     "execution_count": 12,
     "metadata": {},
     "output_type": "execute_result"
    }
   ],
   "source": [
    "(data['Customer Currency'].isna() != data['Proceeds Currency'].isna()).sum()"
   ]
  },
  {
   "cell_type": "code",
   "execution_count": 13,
   "metadata": {},
   "outputs": [],
   "source": [
    "data.drop(columns=['Customer Currency'], inplace=True)"
   ]
  },
  {
   "cell_type": "code",
   "execution_count": 14,
   "metadata": {},
   "outputs": [],
   "source": [
    "data['Subscription Offer Type'] =  data['Subscription Offer Type'].fillna(1)"
   ]
  },
  {
   "cell_type": "code",
   "execution_count": 15,
   "metadata": {},
   "outputs": [],
   "source": [
    "data['Subscription Offer Type'] = data['Subscription Offer Type'].replace({'Free Trial':0})"
   ]
  },
  {
   "cell_type": "code",
   "execution_count": 16,
   "metadata": {},
   "outputs": [
    {
     "data": {
      "text/plain": [
       "1019"
      ]
     },
     "execution_count": 16,
     "metadata": {},
     "output_type": "execute_result"
    }
   ],
   "source": [
    "data['Subscriber ID'].nunique()"
   ]
  },
  {
   "cell_type": "code",
   "execution_count": 17,
   "metadata": {},
   "outputs": [
    {
     "data": {
      "text/plain": [
       "Index(['Event Date', 'Subscription Offer Type', 'Proceeds Currency', 'Device',\n",
       "       'Country', 'Subscriber ID', 'Subscriber ID Reset'],\n",
       "      dtype='object')"
      ]
     },
     "execution_count": 17,
     "metadata": {},
     "output_type": "execute_result"
    }
   ],
   "source": [
    "data.columns"
   ]
  },
  {
   "cell_type": "code",
   "execution_count": 18,
   "metadata": {},
   "outputs": [],
   "source": [
    "data.columns = ['Event_Date', 'Subscription_Offer_Type', 'Proceeds_Currency', 'Device',\n",
    "       'Country', 'Subscriber_ID', 'Subscriber_ID_Reset']"
   ]
  },
  {
   "cell_type": "code",
   "execution_count": 19,
   "metadata": {},
   "outputs": [
    {
     "data": {
      "text/html": [
       "<div>\n",
       "<style scoped>\n",
       "    .dataframe tbody tr th:only-of-type {\n",
       "        vertical-align: middle;\n",
       "    }\n",
       "\n",
       "    .dataframe tbody tr th {\n",
       "        vertical-align: top;\n",
       "    }\n",
       "\n",
       "    .dataframe thead th {\n",
       "        text-align: right;\n",
       "    }\n",
       "</style>\n",
       "<table border=\"1\" class=\"dataframe\">\n",
       "  <thead>\n",
       "    <tr style=\"text-align: right;\">\n",
       "      <th></th>\n",
       "      <th>Event_Date</th>\n",
       "      <th>Subscription_Offer_Type</th>\n",
       "      <th>Proceeds_Currency</th>\n",
       "      <th>Device</th>\n",
       "      <th>Country</th>\n",
       "      <th>Subscriber_ID</th>\n",
       "      <th>Subscriber_ID_Reset</th>\n",
       "    </tr>\n",
       "  </thead>\n",
       "  <tbody>\n",
       "    <tr>\n",
       "      <th>0</th>\n",
       "      <td>2019-07-15</td>\n",
       "      <td>0</td>\n",
       "      <td>IDR</td>\n",
       "      <td>iPhone</td>\n",
       "      <td>ID</td>\n",
       "      <td>223411322456765433</td>\n",
       "      <td>NaN</td>\n",
       "    </tr>\n",
       "    <tr>\n",
       "      <th>1019</th>\n",
       "      <td>2019-07-22</td>\n",
       "      <td>1</td>\n",
       "      <td>IDR</td>\n",
       "      <td>iPhone</td>\n",
       "      <td>ID</td>\n",
       "      <td>223411322456765433</td>\n",
       "      <td>NaN</td>\n",
       "    </tr>\n",
       "    <tr>\n",
       "      <th>1518</th>\n",
       "      <td>2019-07-29</td>\n",
       "      <td>1</td>\n",
       "      <td>IDR</td>\n",
       "      <td>iPhone</td>\n",
       "      <td>ID</td>\n",
       "      <td>223411322456765433</td>\n",
       "      <td>NaN</td>\n",
       "    </tr>\n",
       "    <tr>\n",
       "      <th>1870</th>\n",
       "      <td>2019-08-05</td>\n",
       "      <td>1</td>\n",
       "      <td>IDR</td>\n",
       "      <td>iPhone</td>\n",
       "      <td>ID</td>\n",
       "      <td>223411322456765433</td>\n",
       "      <td>NaN</td>\n",
       "    </tr>\n",
       "    <tr>\n",
       "      <th>2133</th>\n",
       "      <td>2019-08-12</td>\n",
       "      <td>1</td>\n",
       "      <td>IDR</td>\n",
       "      <td>iPhone</td>\n",
       "      <td>ID</td>\n",
       "      <td>223411322456765433</td>\n",
       "      <td>NaN</td>\n",
       "    </tr>\n",
       "    <tr>\n",
       "      <th>2288</th>\n",
       "      <td>2019-08-19</td>\n",
       "      <td>1</td>\n",
       "      <td>IDR</td>\n",
       "      <td>iPhone</td>\n",
       "      <td>ID</td>\n",
       "      <td>223411322456765433</td>\n",
       "      <td>NaN</td>\n",
       "    </tr>\n",
       "  </tbody>\n",
       "</table>\n",
       "</div>"
      ],
      "text/plain": [
       "      Event_Date  Subscription_Offer_Type Proceeds_Currency  Device Country  \\\n",
       "0     2019-07-15                        0               IDR  iPhone      ID   \n",
       "1019  2019-07-22                        1               IDR  iPhone      ID   \n",
       "1518  2019-07-29                        1               IDR  iPhone      ID   \n",
       "1870  2019-08-05                        1               IDR  iPhone      ID   \n",
       "2133  2019-08-12                        1               IDR  iPhone      ID   \n",
       "2288  2019-08-19                        1               IDR  iPhone      ID   \n",
       "\n",
       "           Subscriber_ID Subscriber_ID_Reset  \n",
       "0     223411322456765433                 NaN  \n",
       "1019  223411322456765433                 NaN  \n",
       "1518  223411322456765433                 NaN  \n",
       "1870  223411322456765433                 NaN  \n",
       "2133  223411322456765433                 NaN  \n",
       "2288  223411322456765433                 NaN  "
      ]
     },
     "execution_count": 19,
     "metadata": {},
     "output_type": "execute_result"
    }
   ],
   "source": [
    "data[data['Subscriber_ID'] == 223411322456765433]"
   ]
  },
  {
   "cell_type": "code",
   "execution_count": 20,
   "metadata": {},
   "outputs": [
    {
     "data": {
      "text/html": [
       "<div>\n",
       "<style scoped>\n",
       "    .dataframe tbody tr th:only-of-type {\n",
       "        vertical-align: middle;\n",
       "    }\n",
       "\n",
       "    .dataframe tbody tr th {\n",
       "        vertical-align: top;\n",
       "    }\n",
       "\n",
       "    .dataframe thead th {\n",
       "        text-align: right;\n",
       "    }\n",
       "</style>\n",
       "<table border=\"1\" class=\"dataframe\">\n",
       "  <thead>\n",
       "    <tr style=\"text-align: right;\">\n",
       "      <th></th>\n",
       "      <th>Event_Date</th>\n",
       "      <th>Subscription_Offer_Type</th>\n",
       "      <th>Proceeds_Currency</th>\n",
       "      <th>Device</th>\n",
       "      <th>Country</th>\n",
       "      <th>Subscriber_ID</th>\n",
       "      <th>Subscriber_ID_Reset</th>\n",
       "    </tr>\n",
       "  </thead>\n",
       "  <tbody>\n",
       "    <tr>\n",
       "      <th>2</th>\n",
       "      <td>2019-07-15</td>\n",
       "      <td>0</td>\n",
       "      <td>INR</td>\n",
       "      <td>iPhone</td>\n",
       "      <td>IN</td>\n",
       "      <td>223411322456765435</td>\n",
       "      <td>NaN</td>\n",
       "    </tr>\n",
       "    <tr>\n",
       "      <th>1021</th>\n",
       "      <td>2019-07-22</td>\n",
       "      <td>1</td>\n",
       "      <td>INR</td>\n",
       "      <td>iPhone</td>\n",
       "      <td>IN</td>\n",
       "      <td>223411322456765435</td>\n",
       "      <td>NaN</td>\n",
       "    </tr>\n",
       "    <tr>\n",
       "      <th>1520</th>\n",
       "      <td>2019-07-29</td>\n",
       "      <td>1</td>\n",
       "      <td>INR</td>\n",
       "      <td>iPhone</td>\n",
       "      <td>IN</td>\n",
       "      <td>223411322456765435</td>\n",
       "      <td>NaN</td>\n",
       "    </tr>\n",
       "    <tr>\n",
       "      <th>1872</th>\n",
       "      <td>2019-08-05</td>\n",
       "      <td>1</td>\n",
       "      <td>INR</td>\n",
       "      <td>iPhone</td>\n",
       "      <td>IN</td>\n",
       "      <td>223411322456765435</td>\n",
       "      <td>NaN</td>\n",
       "    </tr>\n",
       "    <tr>\n",
       "      <th>2135</th>\n",
       "      <td>2019-08-12</td>\n",
       "      <td>1</td>\n",
       "      <td>INR</td>\n",
       "      <td>iPhone</td>\n",
       "      <td>IN</td>\n",
       "      <td>223411322456765435</td>\n",
       "      <td>NaN</td>\n",
       "    </tr>\n",
       "    <tr>\n",
       "      <th>2290</th>\n",
       "      <td>2019-08-19</td>\n",
       "      <td>1</td>\n",
       "      <td>INR</td>\n",
       "      <td>iPhone</td>\n",
       "      <td>IN</td>\n",
       "      <td>223411322456765435</td>\n",
       "      <td>NaN</td>\n",
       "    </tr>\n",
       "  </tbody>\n",
       "</table>\n",
       "</div>"
      ],
      "text/plain": [
       "      Event_Date  Subscription_Offer_Type Proceeds_Currency  Device Country  \\\n",
       "2     2019-07-15                        0               INR  iPhone      IN   \n",
       "1021  2019-07-22                        1               INR  iPhone      IN   \n",
       "1520  2019-07-29                        1               INR  iPhone      IN   \n",
       "1872  2019-08-05                        1               INR  iPhone      IN   \n",
       "2135  2019-08-12                        1               INR  iPhone      IN   \n",
       "2290  2019-08-19                        1               INR  iPhone      IN   \n",
       "\n",
       "           Subscriber_ID Subscriber_ID_Reset  \n",
       "2     223411322456765435                 NaN  \n",
       "1021  223411322456765435                 NaN  \n",
       "1520  223411322456765435                 NaN  \n",
       "1872  223411322456765435                 NaN  \n",
       "2135  223411322456765435                 NaN  \n",
       "2290  223411322456765435                 NaN  "
      ]
     },
     "execution_count": 20,
     "metadata": {},
     "output_type": "execute_result"
    }
   ],
   "source": [
    "data[data['Subscriber_ID'] == 223411322456765435]"
   ]
  },
  {
   "cell_type": "code",
   "execution_count": 22,
   "metadata": {
    "scrolled": true
   },
   "outputs": [
    {
     "data": {
      "text/plain": [
       "<matplotlib.axes._subplots.AxesSubplot at 0x7ff0df4f2be0>"
      ]
     },
     "execution_count": 22,
     "metadata": {},
     "output_type": "execute_result"
    },
    {
     "data": {
      "image/png": "[encoded data removed]",
      "text/plain": [
       "<Figure size 432x288 with 1 Axes>"
      ]
     },
     "metadata": {
      "needs_background": "light"
     },
     "output_type": "display_data"
    }
   ],
   "source": [
    "data.groupby('Subscriber_ID').apply(len).hist()"
   ]
  },
  {
   "cell_type": "code",
   "execution_count": 23,
   "metadata": {},
   "outputs": [
    {
     "data": {
      "text/html": [
       "<div>\n",
       "<style scoped>\n",
       "    .dataframe tbody tr th:only-of-type {\n",
       "        vertical-align: middle;\n",
       "    }\n",
       "\n",
       "    .dataframe tbody tr th {\n",
       "        vertical-align: top;\n",
       "    }\n",
       "\n",
       "    .dataframe thead th {\n",
       "        text-align: right;\n",
       "    }\n",
       "</style>\n",
       "<table border=\"1\" class=\"dataframe\">\n",
       "  <thead>\n",
       "    <tr style=\"text-align: right;\">\n",
       "      <th></th>\n",
       "      <th>Event_Date</th>\n",
       "      <th>Subscription_Offer_Type</th>\n",
       "      <th>Proceeds_Currency</th>\n",
       "      <th>Device</th>\n",
       "      <th>Country</th>\n",
       "      <th>Subscriber_ID</th>\n",
       "      <th>Subscriber_ID_Reset</th>\n",
       "    </tr>\n",
       "  </thead>\n",
       "  <tbody>\n",
       "    <tr>\n",
       "      <th>2</th>\n",
       "      <td>2019-07-15</td>\n",
       "      <td>0</td>\n",
       "      <td>INR</td>\n",
       "      <td>iPhone</td>\n",
       "      <td>IN</td>\n",
       "      <td>223411322456765435</td>\n",
       "      <td>NaN</td>\n",
       "    </tr>\n",
       "    <tr>\n",
       "      <th>1021</th>\n",
       "      <td>2019-07-22</td>\n",
       "      <td>1</td>\n",
       "      <td>INR</td>\n",
       "      <td>iPhone</td>\n",
       "      <td>IN</td>\n",
       "      <td>223411322456765435</td>\n",
       "      <td>NaN</td>\n",
       "    </tr>\n",
       "    <tr>\n",
       "      <th>1520</th>\n",
       "      <td>2019-07-29</td>\n",
       "      <td>1</td>\n",
       "      <td>INR</td>\n",
       "      <td>iPhone</td>\n",
       "      <td>IN</td>\n",
       "      <td>223411322456765435</td>\n",
       "      <td>NaN</td>\n",
       "    </tr>\n",
       "    <tr>\n",
       "      <th>1872</th>\n",
       "      <td>2019-08-05</td>\n",
       "      <td>1</td>\n",
       "      <td>INR</td>\n",
       "      <td>iPhone</td>\n",
       "      <td>IN</td>\n",
       "      <td>223411322456765435</td>\n",
       "      <td>NaN</td>\n",
       "    </tr>\n",
       "    <tr>\n",
       "      <th>2135</th>\n",
       "      <td>2019-08-12</td>\n",
       "      <td>1</td>\n",
       "      <td>INR</td>\n",
       "      <td>iPhone</td>\n",
       "      <td>IN</td>\n",
       "      <td>223411322456765435</td>\n",
       "      <td>NaN</td>\n",
       "    </tr>\n",
       "    <tr>\n",
       "      <th>2290</th>\n",
       "      <td>2019-08-19</td>\n",
       "      <td>1</td>\n",
       "      <td>INR</td>\n",
       "      <td>iPhone</td>\n",
       "      <td>IN</td>\n",
       "      <td>223411322456765435</td>\n",
       "      <td>NaN</td>\n",
       "    </tr>\n",
       "  </tbody>\n",
       "</table>\n",
       "</div>"
      ],
      "text/plain": [
       "      Event_Date  Subscription_Offer_Type Proceeds_Currency  Device Country  \\\n",
       "2     2019-07-15                        0               INR  iPhone      IN   \n",
       "1021  2019-07-22                        1               INR  iPhone      IN   \n",
       "1520  2019-07-29                        1               INR  iPhone      IN   \n",
       "1872  2019-08-05                        1               INR  iPhone      IN   \n",
       "2135  2019-08-12                        1               INR  iPhone      IN   \n",
       "2290  2019-08-19                        1               INR  iPhone      IN   \n",
       "\n",
       "           Subscriber_ID Subscriber_ID_Reset  \n",
       "2     223411322456765435                 NaN  \n",
       "1021  223411322456765435                 NaN  \n",
       "1520  223411322456765435                 NaN  \n",
       "1872  223411322456765435                 NaN  \n",
       "2135  223411322456765435                 NaN  \n",
       "2290  223411322456765435                 NaN  "
      ]
     },
     "execution_count": 23,
     "metadata": {},
     "output_type": "execute_result"
    }
   ],
   "source": [
    "data[data['Subscriber_ID'] == 223411322456765435]#['Subscription_Offer_Type']"
   ]
  },
  {
   "cell_type": "markdown",
   "metadata": {},
   "source": [
    "Тобто всі клієнти починають з Безкоштовної підписки"
   ]
  },
  {
   "cell_type": "markdown",
   "metadata": {},
   "source": [
    "#  RESULT"
   ]
  },
  {
   "cell_type": "code",
   "execution_count": 24,
   "metadata": {},
   "outputs": [],
   "source": [
    "C = 9.99*0.7"
   ]
  },
  {
   "cell_type": "markdown",
   "metadata": {},
   "source": [
    "    Щодо формулювань:\n",
    "\n",
    "    Conversion from trial — конверсія з тріалу в оплату.\n",
    "    Dev proceeds — скільки отримує розробник після вирахування комісій.\n",
    "\n",
    "    Валюта не враховується в розрахунках.\n",
    "    На інших даних ваш код запускатись не буде.\n",
    "    Результат у всіх один, але рішення може відрізнятися.\n",
    "    \n",
    "    \n",
    "    LTV – lifetime value. У цьому випадку рахується через конверсії з тріалу в\n",
    "    оплату і потім в наступні оплати. \n",
    "\n",
    "    LTV = ([1]+[2]+[3]+[4]+[5]), де [1] = (dev proceeds * Conversion to trial), а [2] = [1] * 1st\n",
    "    purchase to 2nd, [3] = [2] * 2nd to 3rd і тд.\n",
    "\n",
    "    Важливо! Apple Store забирає собі 30% від вартості підписки. LTV в цьому\n",
    "    випадку ми будемо рахувати на 6 тижнів(1 тиждень тріалу та 5 підписки)."
   ]
  },
  {
   "cell_type": "markdown",
   "metadata": {},
   "source": [
    "Тут всі клієнти починають обов'язково з Trial\n",
    "\n",
    "**Так як На інших даних ваш код запускатись не буде**"
   ]
  },
  {
   "cell_type": "code",
   "execution_count": 28,
   "metadata": {},
   "outputs": [],
   "source": [
    "data = pd.read_csv('data_analytics.csv')\n",
    "\n",
    "RESULT  = ((data.groupby(['Subscriber ID']).apply(len) - 1)*9.99*0.7).reset_index()\n",
    "RESULT = RESULT.rename(columns={0:'LTV'})"
   ]
  },
  {
   "cell_type": "code",
   "execution_count": 29,
   "metadata": {},
   "outputs": [
    {
     "data": {
      "text/html": [
       "<div>\n",
       "<style scoped>\n",
       "    .dataframe tbody tr th:only-of-type {\n",
       "        vertical-align: middle;\n",
       "    }\n",
       "\n",
       "    .dataframe tbody tr th {\n",
       "        vertical-align: top;\n",
       "    }\n",
       "\n",
       "    .dataframe thead th {\n",
       "        text-align: right;\n",
       "    }\n",
       "</style>\n",
       "<table border=\"1\" class=\"dataframe\">\n",
       "  <thead>\n",
       "    <tr style=\"text-align: right;\">\n",
       "      <th></th>\n",
       "      <th>Subscriber ID</th>\n",
       "      <th>LTV</th>\n",
       "    </tr>\n",
       "  </thead>\n",
       "  <tbody>\n",
       "    <tr>\n",
       "      <th>0</th>\n",
       "      <td>223411322456765433</td>\n",
       "      <td>34.965</td>\n",
       "    </tr>\n",
       "    <tr>\n",
       "      <th>1</th>\n",
       "      <td>223411322456765434</td>\n",
       "      <td>34.965</td>\n",
       "    </tr>\n",
       "    <tr>\n",
       "      <th>2</th>\n",
       "      <td>223411322456765435</td>\n",
       "      <td>34.965</td>\n",
       "    </tr>\n",
       "    <tr>\n",
       "      <th>3</th>\n",
       "      <td>223411322456765437</td>\n",
       "      <td>34.965</td>\n",
       "    </tr>\n",
       "    <tr>\n",
       "      <th>4</th>\n",
       "      <td>223411322456765438</td>\n",
       "      <td>34.965</td>\n",
       "    </tr>\n",
       "    <tr>\n",
       "      <th>...</th>\n",
       "      <td>...</td>\n",
       "      <td>...</td>\n",
       "    </tr>\n",
       "    <tr>\n",
       "      <th>1014</th>\n",
       "      <td>223411322456766800</td>\n",
       "      <td>0.000</td>\n",
       "    </tr>\n",
       "    <tr>\n",
       "      <th>1015</th>\n",
       "      <td>223411322456766801</td>\n",
       "      <td>0.000</td>\n",
       "    </tr>\n",
       "    <tr>\n",
       "      <th>1016</th>\n",
       "      <td>223411322456766802</td>\n",
       "      <td>0.000</td>\n",
       "    </tr>\n",
       "    <tr>\n",
       "      <th>1017</th>\n",
       "      <td>223411322456766805</td>\n",
       "      <td>0.000</td>\n",
       "    </tr>\n",
       "    <tr>\n",
       "      <th>1018</th>\n",
       "      <td>223411322456766808</td>\n",
       "      <td>0.000</td>\n",
       "    </tr>\n",
       "  </tbody>\n",
       "</table>\n",
       "<p>1019 rows × 2 columns</p>\n",
       "</div>"
      ],
      "text/plain": [
       "           Subscriber ID     LTV\n",
       "0     223411322456765433  34.965\n",
       "1     223411322456765434  34.965\n",
       "2     223411322456765435  34.965\n",
       "3     223411322456765437  34.965\n",
       "4     223411322456765438  34.965\n",
       "...                  ...     ...\n",
       "1014  223411322456766800   0.000\n",
       "1015  223411322456766801   0.000\n",
       "1016  223411322456766802   0.000\n",
       "1017  223411322456766805   0.000\n",
       "1018  223411322456766808   0.000\n",
       "\n",
       "[1019 rows x 2 columns]"
      ]
     },
     "execution_count": 29,
     "metadata": {},
     "output_type": "execute_result"
    }
   ],
   "source": [
    "RESULT"
   ]
  },
  {
   "cell_type": "markdown",
   "metadata": {},
   "source": [
    "Avarage LTV for customer"
   ]
  },
  {
   "cell_type": "code",
   "execution_count": 159,
   "metadata": {},
   "outputs": [
    {
     "data": {
      "text/plain": [
       "9.34001275760553"
      ]
     },
     "execution_count": 159,
     "metadata": {},
     "output_type": "execute_result"
    }
   ],
   "source": [
    "RESULT.LTV.mean()"
   ]
  },
  {
   "cell_type": "code",
   "execution_count": 30,
   "metadata": {},
   "outputs": [
    {
     "data": {
      "text/plain": [
       "array([34.965, 27.972, 20.979, 13.986,  6.993,  0.   ])"
      ]
     },
     "execution_count": 30,
     "metadata": {},
     "output_type": "execute_result"
    }
   ],
   "source": [
    "RESULT.LTV.unique()"
   ]
  },
  {
   "cell_type": "markdown",
   "metadata": {},
   "source": [
    "# Same result"
   ]
  },
  {
   "cell_type": "code",
   "execution_count": 31,
   "metadata": {},
   "outputs": [
    {
     "data": {
      "text/html": [
       "<div>\n",
       "<style scoped>\n",
       "    .dataframe tbody tr th:only-of-type {\n",
       "        vertical-align: middle;\n",
       "    }\n",
       "\n",
       "    .dataframe tbody tr th {\n",
       "        vertical-align: top;\n",
       "    }\n",
       "\n",
       "    .dataframe thead th {\n",
       "        text-align: right;\n",
       "    }\n",
       "</style>\n",
       "<table border=\"1\" class=\"dataframe\">\n",
       "  <thead>\n",
       "    <tr style=\"text-align: right;\">\n",
       "      <th></th>\n",
       "      <th>Subscriber ID</th>\n",
       "      <th>LTV</th>\n",
       "    </tr>\n",
       "  </thead>\n",
       "  <tbody>\n",
       "    <tr>\n",
       "      <th>0</th>\n",
       "      <td>223411322456765433</td>\n",
       "      <td>5</td>\n",
       "    </tr>\n",
       "    <tr>\n",
       "      <th>1</th>\n",
       "      <td>223411322456765434</td>\n",
       "      <td>5</td>\n",
       "    </tr>\n",
       "    <tr>\n",
       "      <th>2</th>\n",
       "      <td>223411322456765435</td>\n",
       "      <td>5</td>\n",
       "    </tr>\n",
       "    <tr>\n",
       "      <th>3</th>\n",
       "      <td>223411322456765437</td>\n",
       "      <td>5</td>\n",
       "    </tr>\n",
       "    <tr>\n",
       "      <th>4</th>\n",
       "      <td>223411322456765438</td>\n",
       "      <td>5</td>\n",
       "    </tr>\n",
       "    <tr>\n",
       "      <th>...</th>\n",
       "      <td>...</td>\n",
       "      <td>...</td>\n",
       "    </tr>\n",
       "    <tr>\n",
       "      <th>1014</th>\n",
       "      <td>223411322456766800</td>\n",
       "      <td>0</td>\n",
       "    </tr>\n",
       "    <tr>\n",
       "      <th>1015</th>\n",
       "      <td>223411322456766801</td>\n",
       "      <td>0</td>\n",
       "    </tr>\n",
       "    <tr>\n",
       "      <th>1016</th>\n",
       "      <td>223411322456766802</td>\n",
       "      <td>0</td>\n",
       "    </tr>\n",
       "    <tr>\n",
       "      <th>1017</th>\n",
       "      <td>223411322456766805</td>\n",
       "      <td>0</td>\n",
       "    </tr>\n",
       "    <tr>\n",
       "      <th>1018</th>\n",
       "      <td>223411322456766808</td>\n",
       "      <td>0</td>\n",
       "    </tr>\n",
       "  </tbody>\n",
       "</table>\n",
       "<p>1019 rows × 2 columns</p>\n",
       "</div>"
      ],
      "text/plain": [
       "           Subscriber ID  LTV\n",
       "0     223411322456765433    5\n",
       "1     223411322456765434    5\n",
       "2     223411322456765435    5\n",
       "3     223411322456765437    5\n",
       "4     223411322456765438    5\n",
       "...                  ...  ...\n",
       "1014  223411322456766800    0\n",
       "1015  223411322456766801    0\n",
       "1016  223411322456766802    0\n",
       "1017  223411322456766805    0\n",
       "1018  223411322456766808    0\n",
       "\n",
       "[1019 rows x 2 columns]"
      ]
     },
     "execution_count": 31,
     "metadata": {},
     "output_type": "execute_result"
    }
   ],
   "source": [
    "RESULT2 = (data.groupby(['Subscriber ID']).apply(len) - 1).reset_index().rename(columns={0:'LTV'})\n",
    "RESULT2"
   ]
  },
  {
   "cell_type": "code",
   "execution_count": 32,
   "metadata": {},
   "outputs": [
    {
     "data": {
      "text/html": [
       "<div>\n",
       "<style scoped>\n",
       "    .dataframe tbody tr th:only-of-type {\n",
       "        vertical-align: middle;\n",
       "    }\n",
       "\n",
       "    .dataframe tbody tr th {\n",
       "        vertical-align: top;\n",
       "    }\n",
       "\n",
       "    .dataframe thead th {\n",
       "        text-align: right;\n",
       "    }\n",
       "</style>\n",
       "<table border=\"1\" class=\"dataframe\">\n",
       "  <thead>\n",
       "    <tr style=\"text-align: right;\">\n",
       "      <th></th>\n",
       "      <th>Count</th>\n",
       "      <th>LTV</th>\n",
       "    </tr>\n",
       "  </thead>\n",
       "  <tbody>\n",
       "    <tr>\n",
       "      <th>0</th>\n",
       "      <td>0</td>\n",
       "      <td>520</td>\n",
       "    </tr>\n",
       "    <tr>\n",
       "      <th>1</th>\n",
       "      <td>1</td>\n",
       "      <td>146</td>\n",
       "    </tr>\n",
       "    <tr>\n",
       "      <th>2</th>\n",
       "      <td>2</td>\n",
       "      <td>91</td>\n",
       "    </tr>\n",
       "    <tr>\n",
       "      <th>3</th>\n",
       "      <td>3</td>\n",
       "      <td>107</td>\n",
       "    </tr>\n",
       "    <tr>\n",
       "      <th>4</th>\n",
       "      <td>4</td>\n",
       "      <td>63</td>\n",
       "    </tr>\n",
       "    <tr>\n",
       "      <th>5</th>\n",
       "      <td>5</td>\n",
       "      <td>92</td>\n",
       "    </tr>\n",
       "  </tbody>\n",
       "</table>\n",
       "</div>"
      ],
      "text/plain": [
       "   Count  LTV\n",
       "0      0  520\n",
       "1      1  146\n",
       "2      2   91\n",
       "3      3  107\n",
       "4      4   63\n",
       "5      5   92"
      ]
     },
     "execution_count": 32,
     "metadata": {},
     "output_type": "execute_result"
    }
   ],
   "source": [
    "RESULT2 = RESULT2.groupby(['LTV']).apply(len).reset_index().rename(columns={'LTV':'Count', 0:'LTV'})\n",
    "RESULT2"
   ]
  },
  {
   "cell_type": "code",
   "execution_count": 33,
   "metadata": {},
   "outputs": [
    {
     "data": {
      "text/html": [
       "<div>\n",
       "<style scoped>\n",
       "    .dataframe tbody tr th:only-of-type {\n",
       "        vertical-align: middle;\n",
       "    }\n",
       "\n",
       "    .dataframe tbody tr th {\n",
       "        vertical-align: top;\n",
       "    }\n",
       "\n",
       "    .dataframe thead th {\n",
       "        text-align: right;\n",
       "    }\n",
       "</style>\n",
       "<table border=\"1\" class=\"dataframe\">\n",
       "  <thead>\n",
       "    <tr style=\"text-align: right;\">\n",
       "      <th></th>\n",
       "      <th>Count</th>\n",
       "      <th>LTV</th>\n",
       "    </tr>\n",
       "  </thead>\n",
       "  <tbody>\n",
       "    <tr>\n",
       "      <th>5</th>\n",
       "      <td>5</td>\n",
       "      <td>92</td>\n",
       "    </tr>\n",
       "    <tr>\n",
       "      <th>4</th>\n",
       "      <td>4</td>\n",
       "      <td>63</td>\n",
       "    </tr>\n",
       "    <tr>\n",
       "      <th>3</th>\n",
       "      <td>3</td>\n",
       "      <td>107</td>\n",
       "    </tr>\n",
       "    <tr>\n",
       "      <th>2</th>\n",
       "      <td>2</td>\n",
       "      <td>91</td>\n",
       "    </tr>\n",
       "    <tr>\n",
       "      <th>1</th>\n",
       "      <td>1</td>\n",
       "      <td>146</td>\n",
       "    </tr>\n",
       "    <tr>\n",
       "      <th>0</th>\n",
       "      <td>0</td>\n",
       "      <td>520</td>\n",
       "    </tr>\n",
       "  </tbody>\n",
       "</table>\n",
       "</div>"
      ],
      "text/plain": [
       "   Count  LTV\n",
       "5      5   92\n",
       "4      4   63\n",
       "3      3  107\n",
       "2      2   91\n",
       "1      1  146\n",
       "0      0  520"
      ]
     },
     "execution_count": 33,
     "metadata": {},
     "output_type": "execute_result"
    }
   ],
   "source": [
    "RESULT2 = RESULT2.iloc[::-1]\n",
    "RESULT2"
   ]
  },
  {
   "cell_type": "code",
   "execution_count": 34,
   "metadata": {},
   "outputs": [
    {
     "data": {
      "text/html": [
       "<div>\n",
       "<style scoped>\n",
       "    .dataframe tbody tr th:only-of-type {\n",
       "        vertical-align: middle;\n",
       "    }\n",
       "\n",
       "    .dataframe tbody tr th {\n",
       "        vertical-align: top;\n",
       "    }\n",
       "\n",
       "    .dataframe thead th {\n",
       "        text-align: right;\n",
       "    }\n",
       "</style>\n",
       "<table border=\"1\" class=\"dataframe\">\n",
       "  <thead>\n",
       "    <tr style=\"text-align: right;\">\n",
       "      <th></th>\n",
       "      <th>Count</th>\n",
       "      <th>LTV</th>\n",
       "    </tr>\n",
       "  </thead>\n",
       "  <tbody>\n",
       "    <tr>\n",
       "      <th>5</th>\n",
       "      <td>5</td>\n",
       "      <td>92</td>\n",
       "    </tr>\n",
       "    <tr>\n",
       "      <th>4</th>\n",
       "      <td>4</td>\n",
       "      <td>63</td>\n",
       "    </tr>\n",
       "    <tr>\n",
       "      <th>3</th>\n",
       "      <td>3</td>\n",
       "      <td>107</td>\n",
       "    </tr>\n",
       "    <tr>\n",
       "      <th>2</th>\n",
       "      <td>2</td>\n",
       "      <td>91</td>\n",
       "    </tr>\n",
       "    <tr>\n",
       "      <th>1</th>\n",
       "      <td>1</td>\n",
       "      <td>146</td>\n",
       "    </tr>\n",
       "    <tr>\n",
       "      <th>0</th>\n",
       "      <td>0</td>\n",
       "      <td>520</td>\n",
       "    </tr>\n",
       "  </tbody>\n",
       "</table>\n",
       "</div>"
      ],
      "text/plain": [
       "   Count  LTV\n",
       "5      5   92\n",
       "4      4   63\n",
       "3      3  107\n",
       "2      2   91\n",
       "1      1  146\n",
       "0      0  520"
      ]
     },
     "execution_count": 34,
     "metadata": {},
     "output_type": "execute_result"
    }
   ],
   "source": [
    "RESULT2"
   ]
  },
  {
   "cell_type": "code",
   "execution_count": 35,
   "metadata": {},
   "outputs": [
    {
     "name": "stderr",
     "output_type": "stream",
     "text": [
      "/Users/evgen/anaconda3/lib/python3.7/site-packages/ipykernel_launcher.py:1: SettingWithCopyWarning: \n",
      "A value is trying to be set on a copy of a slice from a DataFrame.\n",
      "Try using .loc[row_indexer,col_indexer] = value instead\n",
      "\n",
      "See the caveats in the documentation: https://pandas.pydata.org/pandas-docs/stable/user_guide/indexing.html#returning-a-view-versus-a-copy\n",
      "  \"\"\"Entry point for launching an IPython kernel.\n"
     ]
    }
   ],
   "source": [
    "RESULT2['Client'] = RESULT2.LTV.cumsum()"
   ]
  },
  {
   "cell_type": "code",
   "execution_count": 36,
   "metadata": {},
   "outputs": [
    {
     "name": "stderr",
     "output_type": "stream",
     "text": [
      "/Users/evgen/anaconda3/lib/python3.7/site-packages/ipykernel_launcher.py:1: SettingWithCopyWarning: \n",
      "A value is trying to be set on a copy of a slice from a DataFrame.\n",
      "Try using .loc[row_indexer,col_indexer] = value instead\n",
      "\n",
      "See the caveats in the documentation: https://pandas.pydata.org/pandas-docs/stable/user_guide/indexing.html#returning-a-view-versus-a-copy\n",
      "  \"\"\"Entry point for launching an IPython kernel.\n"
     ]
    },
    {
     "data": {
      "text/html": [
       "<div>\n",
       "<style scoped>\n",
       "    .dataframe tbody tr th:only-of-type {\n",
       "        vertical-align: middle;\n",
       "    }\n",
       "\n",
       "    .dataframe tbody tr th {\n",
       "        vertical-align: top;\n",
       "    }\n",
       "\n",
       "    .dataframe thead th {\n",
       "        text-align: right;\n",
       "    }\n",
       "</style>\n",
       "<table border=\"1\" class=\"dataframe\">\n",
       "  <thead>\n",
       "    <tr style=\"text-align: right;\">\n",
       "      <th></th>\n",
       "      <th>Count</th>\n",
       "      <th>LTV</th>\n",
       "      <th>Client</th>\n",
       "      <th>Conv</th>\n",
       "    </tr>\n",
       "  </thead>\n",
       "  <tbody>\n",
       "    <tr>\n",
       "      <th>5</th>\n",
       "      <td>5</td>\n",
       "      <td>92</td>\n",
       "      <td>92</td>\n",
       "      <td>0.090285</td>\n",
       "    </tr>\n",
       "    <tr>\n",
       "      <th>4</th>\n",
       "      <td>4</td>\n",
       "      <td>63</td>\n",
       "      <td>155</td>\n",
       "      <td>0.152110</td>\n",
       "    </tr>\n",
       "    <tr>\n",
       "      <th>3</th>\n",
       "      <td>3</td>\n",
       "      <td>107</td>\n",
       "      <td>262</td>\n",
       "      <td>0.257115</td>\n",
       "    </tr>\n",
       "    <tr>\n",
       "      <th>2</th>\n",
       "      <td>2</td>\n",
       "      <td>91</td>\n",
       "      <td>353</td>\n",
       "      <td>0.346418</td>\n",
       "    </tr>\n",
       "    <tr>\n",
       "      <th>1</th>\n",
       "      <td>1</td>\n",
       "      <td>146</td>\n",
       "      <td>499</td>\n",
       "      <td>0.489696</td>\n",
       "    </tr>\n",
       "    <tr>\n",
       "      <th>0</th>\n",
       "      <td>0</td>\n",
       "      <td>520</td>\n",
       "      <td>1019</td>\n",
       "      <td>1.000000</td>\n",
       "    </tr>\n",
       "  </tbody>\n",
       "</table>\n",
       "</div>"
      ],
      "text/plain": [
       "   Count  LTV  Client      Conv\n",
       "5      5   92      92  0.090285\n",
       "4      4   63     155  0.152110\n",
       "3      3  107     262  0.257115\n",
       "2      2   91     353  0.346418\n",
       "1      1  146     499  0.489696\n",
       "0      0  520    1019  1.000000"
      ]
     },
     "execution_count": 36,
     "metadata": {},
     "output_type": "execute_result"
    }
   ],
   "source": [
    "RESULT2['Conv'] = RESULT2.Client/max(RESULT2.Client)\n",
    "RESULT2"
   ]
  },
  {
   "cell_type": "code",
   "execution_count": 37,
   "metadata": {},
   "outputs": [
    {
     "data": {
      "text/plain": [
       "5         NaN\n",
       "4    0.593548\n",
       "3    0.591603\n",
       "2    0.742210\n",
       "1    0.707415\n",
       "0    0.489696\n",
       "Name: Conv, dtype: float64"
      ]
     },
     "execution_count": 37,
     "metadata": {},
     "output_type": "execute_result"
    }
   ],
   "source": [
    "RESULT2 = RESULT2.Conv.shift(1)/RESULT2.Conv\n",
    "RESULT2"
   ]
  },
  {
   "cell_type": "code",
   "execution_count": 38,
   "metadata": {},
   "outputs": [
    {
     "data": {
      "text/plain": [
       "4    0.593548\n",
       "3    0.591603\n",
       "2    0.742210\n",
       "1    0.707415\n",
       "0    0.489696\n",
       "Name: Conv, dtype: float64"
      ]
     },
     "execution_count": 38,
     "metadata": {},
     "output_type": "execute_result"
    }
   ],
   "source": [
    "RESULT2 = RESULT2[1:]\n",
    "RESULT2"
   ]
  },
  {
   "cell_type": "code",
   "execution_count": 44,
   "metadata": {},
   "outputs": [
    {
     "data": {
      "text/plain": [
       "4"
      ]
     },
     "execution_count": 44,
     "metadata": {},
     "output_type": "execute_result"
    }
   ],
   "source": []
  },
  {
   "cell_type": "code",
   "execution_count": 45,
   "metadata": {},
   "outputs": [
    {
     "data": {
      "text/plain": [
       "[3.4244425907752696,\n",
       " 2.4225014720314033,\n",
       " 1.7980039254170757,\n",
       " 1.0637046123650638,\n",
       " 0.6313601570166829]"
      ]
     },
     "execution_count": 45,
     "metadata": {},
     "output_type": "execute_result"
    }
   ],
   "source": [
    "ltv = []\n",
    "\n",
    "ltv.append(C*RESULT2.loc[0])\n",
    "\n",
    "for i in range(1, max(RESULT2.index)+1):\n",
    "    ltv.append(ltv[-1]*RESULT2.loc[i])\n",
    "    \n",
    "ltv"
   ]
  },
  {
   "cell_type": "code",
   "execution_count": 46,
   "metadata": {},
   "outputs": [
    {
     "data": {
      "text/plain": [
       "9.340012757605495"
      ]
     },
     "execution_count": 46,
     "metadata": {},
     "output_type": "execute_result"
    }
   ],
   "source": [
    "sum(ltv)"
   ]
  },
  {
   "cell_type": "code",
   "execution_count": null,
   "metadata": {},
   "outputs": [],
   "source": []
  }
 ],
 "metadata": {
  "kernelspec": {
   "display_name": "Python 3",
   "language": "python",
   "name": "python3"
  },
  "language_info": {
   "codemirror_mode": {
    "name": "ipython",
    "version": 3
   },
   "file_extension": ".py",
   "mimetype": "text/x-python",
   "name": "python",
   "nbconvert_exporter": "python",
   "pygments_lexer": "ipython3",
   "version": "3.7.1"
  }
 },
 "nbformat": 4,
 "nbformat_minor": 2
}
